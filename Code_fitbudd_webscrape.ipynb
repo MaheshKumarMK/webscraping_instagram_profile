{
 "cells": [
  {
   "cell_type": "markdown",
   "id": "8b9a3a49",
   "metadata": {},
   "source": [
    "## Task:\n",
    "You are requested to scrap 50 profiles from Instagram fitting the brief given below:\n",
    "- Target Profiles: Keyword \"Fitness Coach\" in their Bio\n",
    "- Geography: USA\n",
    "- Followers: 50,000+"
   ]
  },
  {
   "cell_type": "markdown",
   "id": "0efa55fe",
   "metadata": {},
   "source": [
    "**Objective:** The goal of this project is to extract Instagram profiles of fitness coaches/trainers located in the USA and having more than 50,000 followers.\n",
    "\n"
   ]
  },
  {
   "cell_type": "markdown",
   "id": "feab7179",
   "metadata": {},
   "source": [
    "**Methodology:** To achieve this goal, we will follow the following steps:"
   ]
  },
  {
   "cell_type": "markdown",
   "id": "c8872ce0",
   "metadata": {},
   "source": [
    "1.\t**Filtering Profiles:** Firstly, we will use advanced Google search to filter out the profiles based on the website, location, and the keyword \"fitness coach\" or \"fitness trainer\". This will help us to obtain a most of Instagram usernames for fitness coaches and trainers located in the USA.\n",
    "\n",
    "\n",
    "\n",
    "2.\t**Scraping Profiles:** Next, we will use web scraping techniques to extract the Instagram profiles from the Google search results. We will extract the usernames from the search results and store them in a list.\n",
    "\n",
    "\n",
    "\n",
    "*code snippet*\n"
   ]
  },
  {
   "cell_type": "markdown",
   "id": "cca85a8c",
   "metadata": {},
   "source": [
    "**NOTE** : Change directory path wherever required"
   ]
  },
  {
   "cell_type": "code",
   "execution_count": 1,
   "id": "5db51038",
   "metadata": {},
   "outputs": [
    {
     "name": "stdout",
     "output_type": "stream",
     "text": [
      "Virginia\n"
     ]
    },
    {
     "name": "stderr",
     "output_type": "stream",
     "text": [
      "C:\\Users\\Admin\\AppData\\Local\\Temp\\ipykernel_12436\\3316382149.py:28: DeprecationWarning: executable_path has been deprecated, please pass in a Service object\n",
      "  driver = webdriver.Chrome('/path/to/chromedriver', chrome_options=options)\n",
      "C:\\Users\\Admin\\AppData\\Local\\Temp\\ipykernel_12436\\3316382149.py:28: DeprecationWarning: use options instead of chrome_options\n",
      "  driver = webdriver.Chrome('/path/to/chromedriver', chrome_options=options)\n"
     ]
    }
   ],
   "source": [
    "# !pip install selenium --upgrade\n",
    "\n",
    "import pandas as pd\n",
    "import os\n",
    "import re\n",
    "\n",
    "from selenium import webdriver\n",
    "from selenium.webdriver.common.keys import Keys\n",
    "from selenium.webdriver.common.by import By\n",
    "from selenium.webdriver.support.ui import WebDriverWait\n",
    "from selenium.webdriver.support import expected_conditions as EC\n",
    "from selenium.webdriver.chrome.options import Options\n",
    "from time import sleep\n",
    "\n",
    "# Iterate over different states\n",
    "#states = [\"Oklahoma\", \"Virginia\", \"Tennessee\", \"Kentucky\", \"North Carolina\", \"Indiana\",\n",
    "                    #\"Alabama\", \"Arizona\", \"Arkansas\", \"Colorado\", \"Washington\",\"Utah\",\"New Jersey\",\n",
    "                    #\"Texas\",\"Idaho\", \"Wisconsin\", \"Nebraska\", \"Massachusetts\", \"Colorado\"]#[\"Alabama\", \"Arizona\", \"Arkansas\", \n",
    "                    #\"Colorado\", \"Washington\",\"Utah\",\"New Jersey\",\"california\", \"Alaska\", \"florida\", \"new york\"] \n",
    "            \n",
    "states = [\" \".join(input(\"Enter any state name: \").split())]\n",
    "final=[]\n",
    "\n",
    "for state in states:\n",
    "    # Set up the driver\n",
    "    options = Options()\n",
    "    options.add_argument('--user-agent=Mozilla/5.0 (Windows NT 10.0; Win64; x64) AppleWebKit/537.36 (KHTML, like Gecko) Chrome/58.0.3029.110 Safari/537.36')\n",
    "    driver = webdriver.Chrome('/path/to/chromedriver', chrome_options=options)\n",
    "    \n",
    "    # Navigate to Google\n",
    "    driver.get('https://www.google.com')\n",
    "\n",
    "    # Enter the search query\n",
    "    search_box = WebDriverWait(driver, 10).until(EC.element_to_be_clickable((By.NAME, 'q')))\n",
    "    \n",
    "    # Perform the search for the state\n",
    "    search_box.clear()\n",
    "    search_box.send_keys(f'\"fitness trainer\" site:instagram.com near:{state} AND @gmail.com')\n",
    "    search_box.send_keys(Keys.RETURN)\n",
    "    sleep(10)\n",
    "\n",
    "    # Scrape the search results\n",
    "    while True:\n",
    "        try:\n",
    "            results = driver.find_elements(By.CSS_SELECTOR, 'div.g')\n",
    "            for result in results:\n",
    "                link = result.find_element(By.CSS_SELECTOR, 'a').get_attribute('href')\n",
    "                title = result.find_element(By.CSS_SELECTOR, 'h3').text\n",
    "                final.append({'link': link, 'title': title})\n",
    "            next_page_button = driver.find_element(By.ID, 'pnnext')\n",
    "            next_page_button.click()\n",
    "        except:\n",
    "            break\n",
    "    driver.close()\n",
    "    sleep(5)"
   ]
  },
  {
   "cell_type": "markdown",
   "id": "3e38eac6",
   "metadata": {},
   "source": [
    "**Storing in list format:** \n",
    "- Conversion to Dataframe: The list of dictionaries is converted into a pandas dataframe using the pd.DataFrame() function.\n",
    "- Extracting the profile username using regex.\n",
    "- Filtering duplicates: The drop_duplicates() function is applied to the dataframe to remove any duplicate entries.\n",
    "- Extracting profile names: The profile names are extracted from the dataframe and stored in a list.\n",
    "\n",
    "*code snippet*"
   ]
  },
  {
   "cell_type": "code",
   "execution_count": 3,
   "id": "6cc88ad9",
   "metadata": {},
   "outputs": [],
   "source": [
    "df=pd.DataFrame(final)\n",
    "df.to_csv(\"C:\\\\Users\\\\Admin\\\\Desktop\\\\Python program\\\\df.csv\")\n",
    "def profileConvert(final, df):\n",
    "    profiles = []\n",
    "    for t in df.title:\n",
    "        match = re.search(r\"\\(@(?=([a-zA-Z0-9_.]+)\\))\", t)\n",
    "        if match:\n",
    "            name = match.group(1)\n",
    "            profiles.append(name)\n",
    "    drop_dup = set(profiles)\n",
    "    profile_name = list(drop_dup)\n",
    "    return profile_name\n",
    "\n",
    "df_new = df.copy()\n",
    "profile_name = profileConvert(final, df_new)"
   ]
  },
  {
   "cell_type": "code",
   "execution_count": null,
   "id": "3fb06ab8",
   "metadata": {},
   "outputs": [],
   "source": [
    "profile_name"
   ]
  },
  {
   "cell_type": "markdown",
   "id": "5afdacad",
   "metadata": {},
   "source": [
    "### To check whether there are duplicates and remove it if any"
   ]
  },
  {
   "cell_type": "code",
   "execution_count": null,
   "id": "db513ac4",
   "metadata": {},
   "outputs": [],
   "source": [
    "# df3=pd.read_csv(\"C:\\\\Users\\\\Admin\\\\Desktop\\\\Python program\\\\df3.csv\")\n",
    "# df2=pd.read_csv(\"C:\\\\Users\\\\Admin\\\\Desktop\\\\Python program\\\\df2.csv\")\n",
    "# df1=pd.read_csv(\"C:\\\\Users\\\\Admin\\\\Desktop\\\\Python program\\\\df1.csv\")"
   ]
  },
  {
   "cell_type": "code",
   "execution_count": null,
   "id": "7520efe5",
   "metadata": {},
   "outputs": [],
   "source": [
    "# profile_name = [x for x in profile_name4 if x not in profile_name1 + profile_name2 + profile_name3]"
   ]
  },
  {
   "cell_type": "markdown",
   "id": "c18e4bbf",
   "metadata": {},
   "source": [
    "**Automating the Task:**\n",
    " Once we have the list of Instagram usernames, we will automate the task by,\n",
    "-\tlogging into Instagram\n",
    "-\tsearching for the username in batches of 1 to 30\n",
    "-\tchecking the bio for the keywords \"fitness coach\" or \"fitness trainer\"\n",
    "-\tverifying if the profile is located in the USA,\n",
    "-\tchecking if the profile has more than 50,000 followers.\n",
    "\n",
    "**Saving the Results:** For each profile that meets our criteria, we will extract and save the username, bio and number of followers in a text file."
   ]
  },
  {
   "cell_type": "markdown",
   "id": "136c7e5f",
   "metadata": {},
   "source": [
    "**NOTE** : Change directory path wherever required"
   ]
  },
  {
   "cell_type": "code",
   "execution_count": 17,
   "id": "ece5f3f9",
   "metadata": {},
   "outputs": [],
   "source": [
    "from selenium import webdriver\n",
    "from selenium.webdriver.common.keys import Keys\n",
    "from selenium.webdriver.common.by import By\n",
    "from selenium.webdriver.support import expected_conditions as ec\n",
    "from selenium.webdriver.chrome.options import Options\n",
    "from time import sleep\n",
    "from selenium.webdriver.support.wait import WebDriverWait\n",
    "from webdriver_manager.chrome import ChromeDriverManager\n",
    "from selenium.webdriver.common.action_chains import ActionChains\n",
    "\n",
    "from selenium.webdriver.support.ui import WebDriverWait\n",
    "from selenium.webdriver.support import expected_conditions as EC\n",
    "\n",
    "fol=[]\n",
    "data=[]\n",
    "for i in range(0,len(profile_name),30):\n",
    "    # get the next 10 profile names\n",
    "    batch = profile_name[i:i+30]\n",
    "    #automatically install web driver using the webdriver_manager library\n",
    "    driver = webdriver.Chrome(ChromeDriverManager().install())\n",
    "    # Replace with your Instagram credentials\n",
    "    USERNAME = input(\"Enter username: \")\n",
    "    PASSWORD = input(\"Enter passwword: \")\n",
    "    # Initialize Chrome driver with custom User-Agent header\n",
    "    options = Options()\n",
    "    options.add_argument('--user-agent=Mozilla/5.0 (Windows NT 10.0; Win64; x64) AppleWebKit/537.36 (KHTML, like Gecko) Chrome/58.0.3029.110 Safari/537.36')\n",
    "    driver = webdriver.Chrome('/path/to/chromedriver', chrome_options=options)\n",
    "\n",
    "    # Navigate to Instagram login page\n",
    "    driver.get('https://www.instagram.com/accounts/login/')\n",
    "\n",
    "    # Wait for page to load\n",
    "    sleep(2)\n",
    "    #target username\n",
    "    username = WebDriverWait(driver, 10).until(EC.element_to_be_clickable((By.CSS_SELECTOR, \"input[name='username']\")))\n",
    "    password = WebDriverWait(driver, 10).until(EC.element_to_be_clickable((By.CSS_SELECTOR, \"input[name='password']\")))\n",
    "    #enter username and password\n",
    "    username.clear()\n",
    "    username.send_keys(USERNAME)\n",
    "    password.clear()\n",
    "    password.send_keys(PASSWORD)\n",
    "    #target the login button and click it\n",
    "    button = WebDriverWait(driver, 10).until(EC.element_to_be_clickable((By.CSS_SELECTOR, \"button[type='submit']\"))).click()\n",
    "    not_now = WebDriverWait(driver, 10).until(EC.presence_of_element_located((By.CLASS_NAME, \"x1yc6y37\")))\n",
    "    not_now.click()\n",
    "    sleep(5)\n",
    "    not_now2 = WebDriverWait(driver, 10).until(EC.element_to_be_clickable((By.XPATH, '//button[contains(text(), \"Not Now\")]'))).click()\n",
    "    # Wait for login to complete\n",
    "    sleep(5)\n",
    "   \n",
    "    # Iterate over list of profiles and scrape their bios\n",
    "    for profile in batch:\n",
    "        # Navigate to profile page\n",
    "        try:\n",
    "            driver.get('https://www.instagram.com/' + profile)\n",
    "        except:\n",
    "            pass\n",
    "\n",
    "        # Wait for page to load\n",
    "        sleep(5)\n",
    "\n",
    "        bio = driver.find_element(By.XPATH, '//div[@class=\"_aa_c\"]')\n",
    "        if \"fitness\" in bio.text.lower() and (\"coach\" in bio.text.lower() or \"trainer\" in bio.text.lower()):\n",
    "            # locate the location element\n",
    "            location_button = WebDriverWait(driver, 10).until(EC.element_to_be_clickable((By.CLASS_NAME,\"_abl-\"))).click()\n",
    "            about_account = WebDriverWait(driver, 30).until(EC.element_to_be_clickable((By.XPATH, \"//button[@class='_a9-- _a9_1'][1]\")))\n",
    "        #     actions = ActionChains(driver)\n",
    "        #     actions.move_to_element(about_account).perform()\n",
    "            about_account.click()\n",
    "            sleep(2)\n",
    "\n",
    "            locations = driver.find_elements(By.XPATH, '//span[contains(text(),\"United States\")]')\n",
    "            for location in locations:\n",
    "                if location.text:\n",
    "                    close = driver.find_element(By.XPATH, \"//button[@class = '_a9-- _a9_1']\").click()\n",
    "                    sleep(5)\n",
    "                    # find the element that contains the number of followers\n",
    "                    ul = WebDriverWait(driver, 10).until(EC.presence_of_element_located((By.TAG_NAME, 'ul')))\n",
    "                    items = ul.find_elements(By.TAG_NAME,'li')\n",
    "                    fol.append(items[1].text)\n",
    "                    if 'K' in fol[0]:\n",
    "                        no_followers = int(float(fol[0].split()[0].replace(\"K\", \"\")) * 1000)\n",
    "                    elif 'M' and '.' in fol[0]:\n",
    "                        no_followers = int(float(fol[0].split()[0].replace(\"M\", \"\"))*1000000)\n",
    "                    elif 'M' in fol[0]:\n",
    "                        no_followers = int(fol[0].split()[0].replace(\"M\", \"\"))*1000000\n",
    "                    else:\n",
    "                        no_followers = int(fol[0].split()[0].replace(\",\", \"\"))\n",
    "                    fol.clear()\n",
    "                    if no_followers >49000:\n",
    "                        data.append({\"profile\": profile, \"followers\":no_followers,\"bio\":bio.text.lower()})\n",
    "\n",
    "\n",
    "    driver.close()\n",
    "    sleep(5)"
   ]
  },
  {
   "cell_type": "markdown",
   "id": "55e6fe32",
   "metadata": {},
   "source": [
    "### Save each file once the task is done\n",
    "**NOTE** : Change directory path wherever required"
   ]
  },
  {
   "cell_type": "code",
   "execution_count": 6,
   "id": "e4818bc3",
   "metadata": {},
   "outputs": [],
   "source": [
    "filename = \"test\"\n",
    "with open(f\"C:\\\\Users\\\\Admin\\\\Desktop\\\\Python program\\\\{filename}.txt\", \"w\",encoding=\"utf-8\") as f:\n",
    "    for d in data:\n",
    "        for key, value in d.items():\n",
    "            f.write(f\"{key}: {value}\\n\")\n",
    "        f.write(\"\\n\")"
   ]
  },
  {
   "cell_type": "markdown",
   "id": "9970e158",
   "metadata": {},
   "source": [
    "### Combine all the text files if any\n",
    "**NOTE** : Change directory path wherever required"
   ]
  },
  {
   "cell_type": "code",
   "execution_count": 16,
   "id": "f2f3a848",
   "metadata": {},
   "outputs": [],
   "source": [
    "# set the directory path\n",
    "\n",
    "def allFiles(dir_path):\n",
    "\n",
    "    # get a list of all files in the directory\n",
    "    file_list = os.listdir(dir_path)\n",
    "\n",
    "    # filter out any non-text files, if necessary\n",
    "    file_list = [f for f in file_list if f.endswith(\".txt\")]\n",
    "    if file_list:\n",
    "\n",
    "        # set the filenames of the input files\n",
    "        input_filenames = file_list\n",
    "        # set the filename of the output file\n",
    "        output_filename = \"C:\\\\Users\\\\Admin\\\\Desktop\\\\fitbudd\\\\all_files.txt\"\n",
    "\n",
    "        # open the output file in append mode\n",
    "        with open(output_filename, \"a\", encoding='utf-8') as outfile:\n",
    "            # iterate over each input file\n",
    "            for infile_name in input_filenames:\n",
    "                # open the input file in read mode\n",
    "                with open(f'C:\\\\Users\\\\Admin\\\\Desktop\\\\New folder (2)\\\\{infile_name}', \"r\", encoding='utf-8') as infile:\n",
    "                    # read the contents of the input file\n",
    "                    contents = infile.read()\n",
    "                    # append the contents to the output file\n",
    "                    outfile.write(contents)\n",
    "dir_path = \"C:\\\\Users\\\\Admin\\\\Desktop\\\\New folder (2)\"\n",
    "allFiles(dir_path)"
   ]
  },
  {
   "cell_type": "code",
   "execution_count": null,
   "id": "c2636c4e",
   "metadata": {},
   "outputs": [],
   "source": []
  },
  {
   "cell_type": "code",
   "execution_count": null,
   "id": "9b920383",
   "metadata": {},
   "outputs": [],
   "source": []
  }
 ],
 "metadata": {
  "kernelspec": {
   "display_name": "Python 3 (ipykernel)",
   "language": "python",
   "name": "python3"
  },
  "language_info": {
   "codemirror_mode": {
    "name": "ipython",
    "version": 3
   },
   "file_extension": ".py",
   "mimetype": "text/x-python",
   "name": "python",
   "nbconvert_exporter": "python",
   "pygments_lexer": "ipython3",
   "version": "3.9.13"
  }
 },
 "nbformat": 4,
 "nbformat_minor": 5
}
